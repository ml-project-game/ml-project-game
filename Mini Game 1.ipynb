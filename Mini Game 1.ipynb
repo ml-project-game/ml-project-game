{
 "cells": [
  {
   "cell_type": "markdown",
   "id": "66d68437-5d2a-4c0d-a197-ba4a2c014d4e",
   "metadata": {},
   "source": [
    "## What is the Game?\n",
    "\n",
    "The game is based on country and its capitals. This game has different boards with different number of country-capital pairs. Here, we have to reveal the cards which consits of either countries or its capitals. \n",
    "\n",
    "We have to match the country capital pairs in minimum time and minimum number of moves.\n",
    "\n",
    "This will increase our knowledge for different countries and it's capitals. Its also brain sharpening game as one has to remember the revealed card so that one can match the pair when revealed in future. So one has to remember the country capital pairs and on which number card the specific country or capital exist."
   ]
  },
  {
   "cell_type": "code",
   "execution_count": 14,
   "id": "615d0d9d-5d73-446e-9ccd-663844d5e134",
   "metadata": {},
   "outputs": [],
   "source": [
    "import pandas as pd\n",
    "import random\n",
    "import time\n",
    "import numpy as np"
   ]
  },
  {
   "cell_type": "markdown",
   "id": "53e169fb-46ec-44ad-8a22-25aae3017f0d",
   "metadata": {},
   "source": [
    "## What is Capitals.csv?\n",
    "\n",
    "This a csv file which contains country-capital pairs."
   ]
  },
  {
   "cell_type": "code",
   "execution_count": 2,
   "id": "55d81079-ca98-4d12-a993-5b2b41cabf5b",
   "metadata": {},
   "outputs": [
    {
     "data": {
      "text/html": [
       "<div>\n",
       "<style scoped>\n",
       "    .dataframe tbody tr th:only-of-type {\n",
       "        vertical-align: middle;\n",
       "    }\n",
       "\n",
       "    .dataframe tbody tr th {\n",
       "        vertical-align: top;\n",
       "    }\n",
       "\n",
       "    .dataframe thead th {\n",
       "        text-align: right;\n",
       "    }\n",
       "</style>\n",
       "<table border=\"1\" class=\"dataframe\">\n",
       "  <thead>\n",
       "    <tr style=\"text-align: right;\">\n",
       "      <th></th>\n",
       "      <th>Country</th>\n",
       "      <th>Capital</th>\n",
       "    </tr>\n",
       "  </thead>\n",
       "  <tbody>\n",
       "    <tr>\n",
       "      <th>13</th>\n",
       "      <td>Mexico</td>\n",
       "      <td>Mexico City</td>\n",
       "    </tr>\n",
       "    <tr>\n",
       "      <th>28</th>\n",
       "      <td>Czech Republic</td>\n",
       "      <td>Prague</td>\n",
       "    </tr>\n",
       "    <tr>\n",
       "      <th>8</th>\n",
       "      <td>China</td>\n",
       "      <td>Beijing</td>\n",
       "    </tr>\n",
       "    <tr>\n",
       "      <th>32</th>\n",
       "      <td>Vietnam</td>\n",
       "      <td>Hanoi</td>\n",
       "    </tr>\n",
       "    <tr>\n",
       "      <th>10</th>\n",
       "      <td>South Korea</td>\n",
       "      <td>Seoul</td>\n",
       "    </tr>\n",
       "    <tr>\n",
       "      <th>52</th>\n",
       "      <td>Nepal</td>\n",
       "      <td>Kathmandu</td>\n",
       "    </tr>\n",
       "    <tr>\n",
       "      <th>41</th>\n",
       "      <td>Bangladesh</td>\n",
       "      <td>Dhaka</td>\n",
       "    </tr>\n",
       "    <tr>\n",
       "      <th>50</th>\n",
       "      <td>UAE</td>\n",
       "      <td>Abu Dhabi</td>\n",
       "    </tr>\n",
       "    <tr>\n",
       "      <th>29</th>\n",
       "      <td>Greece</td>\n",
       "      <td>Athens</td>\n",
       "    </tr>\n",
       "    <tr>\n",
       "      <th>24</th>\n",
       "      <td>Belgium</td>\n",
       "      <td>Brussels</td>\n",
       "    </tr>\n",
       "  </tbody>\n",
       "</table>\n",
       "</div>"
      ],
      "text/plain": [
       "           Country      Capital\n",
       "13          Mexico  Mexico City\n",
       "28  Czech Republic       Prague\n",
       "8            China      Beijing\n",
       "32         Vietnam        Hanoi\n",
       "10     South Korea        Seoul\n",
       "52           Nepal    Kathmandu\n",
       "41      Bangladesh        Dhaka\n",
       "50             UAE    Abu Dhabi\n",
       "29          Greece       Athens\n",
       "24         Belgium     Brussels"
      ]
     },
     "execution_count": 2,
     "metadata": {},
     "output_type": "execute_result"
    }
   ],
   "source": [
    "data = pd.read_csv(\"Capitals.csv\")\n",
    "data.sample(10)"
   ]
  },
  {
   "cell_type": "code",
   "execution_count": 3,
   "id": "b1c3a2fa-710c-4aec-a409-0b866a520419",
   "metadata": {},
   "outputs": [],
   "source": [
    "pairs = random.sample(list(zip(data[\"Country\"], data[\"Capital\"])), 8)\n",
    "board = [item for pair in pairs for item in pair]\n",
    "random.shuffle(board)"
   ]
  },
  {
   "cell_type": "code",
   "execution_count": 4,
   "id": "fa12e53f-b848-4aa3-a3e7-832ef9c1e436",
   "metadata": {},
   "outputs": [],
   "source": [
    "# Game state\n",
    "revealed = [False] * 16\n",
    "matched = [False] * 16\n",
    "last_move = None\n",
    "moves = 0\n",
    "start_time = time.time()"
   ]
  },
  {
   "cell_type": "code",
   "execution_count": 5,
   "id": "0d9733ca-9ab4-49a0-837a-54d3a67638d8",
   "metadata": {},
   "outputs": [],
   "source": [
    "import os\n",
    "\n",
    "def clear():\n",
    "    os.system('cls' if os.name == 'nt' else 'clear')\n",
    "\n",
    "def display_board(revealed, board):\n",
    "    clear()\n",
    "    print(\"\\nCurrent Board:\\n\")\n",
    "    for i in range(4):  # 4 rows\n",
    "        row = \"\"\n",
    "        for j in range(4):  # 4 columns\n",
    "            index = i * 4 + j\n",
    "            if matched[index]:\n",
    "                item = board[index]\n",
    "            elif revealed[index]:\n",
    "                item = board[index]\n",
    "            else:\n",
    "                item = \"X\"\n",
    "            row += f\"[{index:2}] {item:<16}\"\n",
    "        print(row)\n",
    "    print(\"\\n\")"
   ]
  },
  {
   "cell_type": "code",
   "execution_count": 6,
   "id": "85cd77d9-bda8-4602-93d3-82fa1f30714b",
   "metadata": {},
   "outputs": [],
   "source": [
    "def is_match(item1, item2):  # Function to check if two items are a matching country-capital pair\n",
    "    return any((item1 == c and item2 == cap) or (item2 == c and item1 == cap) for c, cap in pairs)"
   ]
  },
  {
   "cell_type": "code",
   "execution_count": 7,
   "id": "7184f278-0108-4ed1-9648-8887c8e0f8fa",
   "metadata": {},
   "outputs": [
    {
     "name": "stdout",
     "output_type": "stream",
     "text": [
      "\u001b[H\u001b[2J\n",
      "Current Board:\n",
      "\n",
      "[ 0] Algiers         [ 1] Algeria         [ 2] Israel          [ 3] Doha            \n",
      "[ 4] X               [ 5] X               [ 6] X               [ 7] X               \n",
      "[ 8] X               [ 9] X               [10] X               [11] Jerusalem       \n",
      "[12] Stockholm       [13] X               [14] Qatar           [15] Sweden          \n",
      "\n",
      "\n"
     ]
    },
    {
     "name": "stdin",
     "output_type": "stream",
     "text": [
      "Choose the FIRST card index (0–15):  7\n"
     ]
    },
    {
     "name": "stdout",
     "output_type": "stream",
     "text": [
      "\u001b[H\u001b[2J\n",
      "Current Board:\n",
      "\n",
      "[ 0] Algiers         [ 1] Algeria         [ 2] Israel          [ 3] Doha            \n",
      "[ 4] X               [ 5] X               [ 6] X               [ 7] Nigeria         \n",
      "[ 8] X               [ 9] X               [10] X               [11] Jerusalem       \n",
      "[12] Stockholm       [13] X               [14] Qatar           [15] Sweden          \n",
      "\n",
      "\n"
     ]
    },
    {
     "name": "stdin",
     "output_type": "stream",
     "text": [
      "Choose the SECOND card index (0–15):  6\n"
     ]
    },
    {
     "name": "stdout",
     "output_type": "stream",
     "text": [
      "\u001b[H\u001b[2J\n",
      "Current Board:\n",
      "\n",
      "[ 0] Algiers         [ 1] Algeria         [ 2] Israel          [ 3] Doha            \n",
      "[ 4] X               [ 5] X               [ 6] Abuja           [ 7] Nigeria         \n",
      "[ 8] X               [ 9] X               [10] X               [11] Jerusalem       \n",
      "[12] Stockholm       [13] X               [14] Qatar           [15] Sweden          \n",
      "\n",
      "\n",
      "\n",
      "✅ Match Found!\n",
      "\u001b[H\u001b[2J\n",
      "Current Board:\n",
      "\n",
      "[ 0] Algiers         [ 1] Algeria         [ 2] Israel          [ 3] Doha            \n",
      "[ 4] X               [ 5] X               [ 6] Abuja           [ 7] Nigeria         \n",
      "[ 8] X               [ 9] X               [10] X               [11] Jerusalem       \n",
      "[12] Stockholm       [13] X               [14] Qatar           [15] Sweden          \n",
      "\n",
      "\n"
     ]
    },
    {
     "name": "stdin",
     "output_type": "stream",
     "text": [
      "Choose the FIRST card index (0–15):  10\n"
     ]
    },
    {
     "name": "stdout",
     "output_type": "stream",
     "text": [
      "\u001b[H\u001b[2J\n",
      "Current Board:\n",
      "\n",
      "[ 0] Algiers         [ 1] Algeria         [ 2] Israel          [ 3] Doha            \n",
      "[ 4] X               [ 5] X               [ 6] Abuja           [ 7] Nigeria         \n",
      "[ 8] X               [ 9] X               [10] Vietnam         [11] Jerusalem       \n",
      "[12] Stockholm       [13] X               [14] Qatar           [15] Sweden          \n",
      "\n",
      "\n"
     ]
    },
    {
     "name": "stdin",
     "output_type": "stream",
     "text": [
      "Choose the SECOND card index (0–15):  8\n"
     ]
    },
    {
     "name": "stdout",
     "output_type": "stream",
     "text": [
      "\u001b[H\u001b[2J\n",
      "Current Board:\n",
      "\n",
      "[ 0] Algiers         [ 1] Algeria         [ 2] Israel          [ 3] Doha            \n",
      "[ 4] X               [ 5] X               [ 6] Abuja           [ 7] Nigeria         \n",
      "[ 8] Hanoi           [ 9] X               [10] Vietnam         [11] Jerusalem       \n",
      "[12] Stockholm       [13] X               [14] Qatar           [15] Sweden          \n",
      "\n",
      "\n",
      "\n",
      "✅ Match Found!\n",
      "\u001b[H\u001b[2J\n",
      "Current Board:\n",
      "\n",
      "[ 0] Algiers         [ 1] Algeria         [ 2] Israel          [ 3] Doha            \n",
      "[ 4] X               [ 5] X               [ 6] Abuja           [ 7] Nigeria         \n",
      "[ 8] Hanoi           [ 9] X               [10] Vietnam         [11] Jerusalem       \n",
      "[12] Stockholm       [13] X               [14] Qatar           [15] Sweden          \n",
      "\n",
      "\n"
     ]
    },
    {
     "name": "stdin",
     "output_type": "stream",
     "text": [
      "Choose the FIRST card index (0–15):  13\n"
     ]
    },
    {
     "name": "stdout",
     "output_type": "stream",
     "text": [
      "\u001b[H\u001b[2J\n",
      "Current Board:\n",
      "\n",
      "[ 0] Algiers         [ 1] Algeria         [ 2] Israel          [ 3] Doha            \n",
      "[ 4] X               [ 5] X               [ 6] Abuja           [ 7] Nigeria         \n",
      "[ 8] Hanoi           [ 9] X               [10] Vietnam         [11] Jerusalem       \n",
      "[12] Stockholm       [13] Morocco         [14] Qatar           [15] Sweden          \n",
      "\n",
      "\n"
     ]
    },
    {
     "name": "stdin",
     "output_type": "stream",
     "text": [
      "Choose the SECOND card index (0–15):  9\n"
     ]
    },
    {
     "name": "stdout",
     "output_type": "stream",
     "text": [
      "\u001b[H\u001b[2J\n",
      "Current Board:\n",
      "\n",
      "[ 0] Algiers         [ 1] Algeria         [ 2] Israel          [ 3] Doha            \n",
      "[ 4] X               [ 5] X               [ 6] Abuja           [ 7] Nigeria         \n",
      "[ 8] Hanoi           [ 9] Rabat           [10] Vietnam         [11] Jerusalem       \n",
      "[12] Stockholm       [13] Morocco         [14] Qatar           [15] Sweden          \n",
      "\n",
      "\n",
      "\n",
      "✅ Match Found!\n",
      "\u001b[H\u001b[2J\n",
      "Current Board:\n",
      "\n",
      "[ 0] Algiers         [ 1] Algeria         [ 2] Israel          [ 3] Doha            \n",
      "[ 4] X               [ 5] X               [ 6] Abuja           [ 7] Nigeria         \n",
      "[ 8] Hanoi           [ 9] Rabat           [10] Vietnam         [11] Jerusalem       \n",
      "[12] Stockholm       [13] Morocco         [14] Qatar           [15] Sweden          \n",
      "\n",
      "\n"
     ]
    },
    {
     "name": "stdin",
     "output_type": "stream",
     "text": [
      "Choose the FIRST card index (0–15):  5\n"
     ]
    },
    {
     "name": "stdout",
     "output_type": "stream",
     "text": [
      "\u001b[H\u001b[2J\n",
      "Current Board:\n",
      "\n",
      "[ 0] Algiers         [ 1] Algeria         [ 2] Israel          [ 3] Doha            \n",
      "[ 4] X               [ 5] Damascus        [ 6] Abuja           [ 7] Nigeria         \n",
      "[ 8] Hanoi           [ 9] Rabat           [10] Vietnam         [11] Jerusalem       \n",
      "[12] Stockholm       [13] Morocco         [14] Qatar           [15] Sweden          \n",
      "\n",
      "\n"
     ]
    },
    {
     "name": "stdin",
     "output_type": "stream",
     "text": [
      "Choose the SECOND card index (0–15):  4\n"
     ]
    },
    {
     "name": "stdout",
     "output_type": "stream",
     "text": [
      "\u001b[H\u001b[2J\n",
      "Current Board:\n",
      "\n",
      "[ 0] Algiers         [ 1] Algeria         [ 2] Israel          [ 3] Doha            \n",
      "[ 4] Syria           [ 5] Damascus        [ 6] Abuja           [ 7] Nigeria         \n",
      "[ 8] Hanoi           [ 9] Rabat           [10] Vietnam         [11] Jerusalem       \n",
      "[12] Stockholm       [13] Morocco         [14] Qatar           [15] Sweden          \n",
      "\n",
      "\n",
      "\n",
      "✅ Match Found!\n"
     ]
    }
   ],
   "source": [
    "from IPython.display import clear_output\n",
    "print(\"🧠 Welcome to the Country–Capital Memory Match Game!\")\n",
    "print(\"Try to match all pairs with the least number of moves.\\n\")\n",
    "\n",
    "# Main game loop\n",
    "while not all(matched):\n",
    "    display_board(revealed, board)\n",
    "\n",
    "    try:\n",
    "        first = int(input(\"Choose the FIRST card index (0–15): \"))\n",
    "        if first < 0 or first >= 16 or matched[first]:\n",
    "            print(\"❌ Invalid choice. Try again.\")\n",
    "            continue\n",
    "\n",
    "        revealed[first] = True\n",
    "        display_board(revealed, board)\n",
    "\n",
    "        second = int(input(\"Choose the SECOND card index (0–15): \"))\n",
    "        if second < 0 or second >= 16 or matched[second] or second == first:\n",
    "            print(\"❌ Invalid choice. Try again.\")\n",
    "            revealed[first] = False\n",
    "            continue\n",
    "\n",
    "        revealed[second] = True\n",
    "        display_board(revealed, board)\n",
    "\n",
    "        moves += 1\n",
    "        if is_match(board[first], board[second]):\n",
    "            print(\"\\n✅ Match Found!\")\n",
    "            matched[first] = matched[second] = True\n",
    "        else:\n",
    "            print(\"\\n❌ Not a match. Memorize and try again.\")\n",
    "            time.sleep(3)\n",
    "            clear_output()\n",
    "            revealed[first] = revealed[second] = False\n",
    "\n",
    "    except ValueError:\n",
    "        print(\"❌ Please enter a valid number.\")"
   ]
  },
  {
   "cell_type": "code",
   "execution_count": 8,
   "id": "8eb4f13f-7117-474c-9935-6783efaecc84",
   "metadata": {},
   "outputs": [
    {
     "name": "stdout",
     "output_type": "stream",
     "text": [
      "🎉 Congratulations! You matched all pairs.\n",
      "🕒 Time Taken: 166 seconds\n",
      "📦 Total Moves: 16\n",
      "❌ Incorrect Guesses: 8\n"
     ]
    }
   ],
   "source": [
    "# Game completed\n",
    "end_time = time.time()\n",
    "elapsed_time = end_time - start_time\n",
    "incorrect = moves - 8  # 8 pairs = 8 correct moves\n",
    "num_pairs = 8\n",
    "print(\"🎉 Congratulations! You matched all pairs.\")\n",
    "print(f\"🕒 Time Taken: {int(elapsed_time)} seconds\")\n",
    "print(f\"📦 Total Moves: {moves}\")\n",
    "print(f\"❌ Incorrect Guesses: {incorrect}\")"
   ]
  },
  {
   "cell_type": "markdown",
   "id": "e964164e-b7af-47d9-9aa0-ceb65dcb7ac7",
   "metadata": {},
   "source": [
    "## Model Prediction\n",
    "\n",
    "Here we used joblib to load our machine learning model (Random Forest Classifier) to our game.\n",
    "This will observe the the player's performance and predict the difficulty level of the board using the model.\n",
    "This will predict the values according to Random Forest Classfier."
   ]
  },
  {
   "cell_type": "code",
   "execution_count": 12,
   "id": "9475585f-e487-4d37-885f-b37d99327bae",
   "metadata": {},
   "outputs": [
    {
     "name": "stdout",
     "output_type": "stream",
     "text": [
      "🧠 Predicted Difficulty Level: Easy\n"
     ]
    },
    {
     "name": "stderr",
     "output_type": "stream",
     "text": [
      "/opt/anaconda3/lib/python3.10/site-packages/sklearn/base.py:493: UserWarning: X does not have valid feature names, but RandomForestClassifier was fitted with feature names\n",
      "  warnings.warn(\n"
     ]
    }
   ],
   "source": [
    "import joblib\n",
    "\n",
    "model = joblib.load(\"difficulty_model.pkl\")\n",
    "label_encoder = joblib.load(\"label_encoder.pkl\")\n",
    "features = np.array([[elapsed_time, num_pairs, moves, incorrect]])\n",
    "predicted_label = model.predict(features)[0]\n",
    "predicted_difficulty = label_encoder.inverse_transform([predicted_label])[0]\n",
    "\n",
    "print(f\"🧠 Predicted Difficulty Level: {predicted_difficulty}\")"
   ]
  },
  {
   "cell_type": "markdown",
   "id": "e8841174-48ef-451c-a095-8c474e7bd72d",
   "metadata": {},
   "source": [
    "## Data Collection Strategy for Model\n",
    "\n",
    "Here we used Heuristics to define the difficulty level.\n",
    "In future we can chnage this according to the convenience.\n",
    "\n",
    "This is only for the data collection and not for the prediction.\n",
    "Prediction is done my the model itself in above cell.\n"
   ]
  },
  {
   "cell_type": "code",
   "execution_count": 10,
   "id": "e21ed9f7-ccc4-4b85-9c99-5adfb33bdfda",
   "metadata": {},
   "outputs": [],
   "source": [
    "# Data Collection for the model\n",
    "# Difficulty rating based on heuristic\n",
    "if elapsed_time < 250 and moves <= 20:\n",
    "    difficulty = \"Easy\"\n",
    "elif elapsed_time < 450 and moves <= 30:\n",
    "    difficulty = \"Medium\"\n",
    "else:\n",
    "    difficulty = \"Hard\""
   ]
  },
  {
   "cell_type": "code",
   "execution_count": 11,
   "id": "21b6a675-8e9c-4eb1-9e61-2fd3ad260515",
   "metadata": {},
   "outputs": [
    {
     "name": "stdout",
     "output_type": "stream",
     "text": [
      "📊 Game result saved to game_data.csv\n"
     ]
    }
   ],
   "source": [
    "import time\n",
    "import os\n",
    "import csv\n",
    "from datetime import datetime\n",
    "\n",
    "# Data Collection for the model\n",
    "# Logging function\n",
    "def log_game_result(time_taken, num_pairs, moves_made, incorrect_guesses, difficulty_label):\n",
    "    filename = \"game_data.csv\"\n",
    "    file_exists = os.path.isfile(filename)\n",
    "\n",
    "    with open(filename, mode='a', newline='') as file:\n",
    "        writer = csv.writer(file)\n",
    "        if not file_exists:\n",
    "            writer.writerow([\"Timestamp\", \"Time\", \"Number Of Pairs\", \"Moves\", \"Incorrect\", \"Difficulty\"])\n",
    "        writer.writerow([\n",
    "            datetime.now().strftime(\"%Y-%m-%d %H:%M:%S\"),\n",
    "            int(time_taken),\n",
    "            num_pairs,\n",
    "            moves_made,\n",
    "            incorrect_guesses,\n",
    "            difficulty_label\n",
    "        ])\n",
    "\n",
    "log_game_result(elapsed_time, num_pairs, moves, incorrect, difficulty)\n",
    "print(\"📊 Game result saved to game_data.csv\")"
   ]
  },
  {
   "cell_type": "markdown",
   "id": "3cf9c951-4c7a-4f36-9e95-bb0b470b8a3c",
   "metadata": {},
   "source": [
    "### "
   ]
  }
 ],
 "metadata": {
  "kernelspec": {
   "display_name": "Python 3 (ipykernel)",
   "language": "python",
   "name": "python3"
  },
  "language_info": {
   "codemirror_mode": {
    "name": "ipython",
    "version": 3
   },
   "file_extension": ".py",
   "mimetype": "text/x-python",
   "name": "python",
   "nbconvert_exporter": "python",
   "pygments_lexer": "ipython3",
   "version": "3.10.15"
  }
 },
 "nbformat": 4,
 "nbformat_minor": 5
}
